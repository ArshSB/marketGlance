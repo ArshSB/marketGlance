{
 "cells": [
  {
   "cell_type": "code",
   "execution_count": 87,
   "metadata": {
    "collapsed": true
   },
   "outputs": [],
   "source": [
    "\"\"\"Purpose: Geocode (using Google Maps Geocode API) all 20k addresses in the CSV file and\n",
    "   add the respective longitude & latitude to each row so\n",
    "   it can be plotted on to Google Maps\n",
    "   Additionally, do some data processing to avoid future errors\"\"\"\n",
    "\n",
    "import pandas as pd\n",
    "import numpy as np\n",
    "import googlemaps as maps\n"
   ]
  },
  {
   "cell_type": "code",
   "execution_count": 88,
   "outputs": [
    {
     "data": {
      "text/plain": "            address  roll number  year of sale  month of sale sale price  \\\n0  900 ARCHIBALD ST   6032253000          2017             10   $244,000   \n1  17 BERKSHIRE BAY   6024002500          2017             10   $248,000   \n2  21 BERKSHIRE BAY   6024003000          2016             11   $220,000   \n3  27 BERKSHIRE BAY   6024004000          2016              5   $217,000   \n4  35 BERKSHIRE BAY   6024005500          2016              5   $235,000   \n\n   longitude  latitude  \n0        NaN       NaN  \n1        NaN       NaN  \n2        NaN       NaN  \n3        NaN       NaN  \n4        NaN       NaN  ",
      "text/html": "<div>\n<style scoped>\n    .dataframe tbody tr th:only-of-type {\n        vertical-align: middle;\n    }\n\n    .dataframe tbody tr th {\n        vertical-align: top;\n    }\n\n    .dataframe thead th {\n        text-align: right;\n    }\n</style>\n<table border=\"1\" class=\"dataframe\">\n  <thead>\n    <tr style=\"text-align: right;\">\n      <th></th>\n      <th>address</th>\n      <th>roll number</th>\n      <th>year of sale</th>\n      <th>month of sale</th>\n      <th>sale price</th>\n      <th>longitude</th>\n      <th>latitude</th>\n    </tr>\n  </thead>\n  <tbody>\n    <tr>\n      <th>0</th>\n      <td>900 ARCHIBALD ST</td>\n      <td>6032253000</td>\n      <td>2017</td>\n      <td>10</td>\n      <td>$244,000</td>\n      <td>NaN</td>\n      <td>NaN</td>\n    </tr>\n    <tr>\n      <th>1</th>\n      <td>17 BERKSHIRE BAY</td>\n      <td>6024002500</td>\n      <td>2017</td>\n      <td>10</td>\n      <td>$248,000</td>\n      <td>NaN</td>\n      <td>NaN</td>\n    </tr>\n    <tr>\n      <th>2</th>\n      <td>21 BERKSHIRE BAY</td>\n      <td>6024003000</td>\n      <td>2016</td>\n      <td>11</td>\n      <td>$220,000</td>\n      <td>NaN</td>\n      <td>NaN</td>\n    </tr>\n    <tr>\n      <th>3</th>\n      <td>27 BERKSHIRE BAY</td>\n      <td>6024004000</td>\n      <td>2016</td>\n      <td>5</td>\n      <td>$217,000</td>\n      <td>NaN</td>\n      <td>NaN</td>\n    </tr>\n    <tr>\n      <th>4</th>\n      <td>35 BERKSHIRE BAY</td>\n      <td>6024005500</td>\n      <td>2016</td>\n      <td>5</td>\n      <td>$235,000</td>\n      <td>NaN</td>\n      <td>NaN</td>\n    </tr>\n  </tbody>\n</table>\n</div>"
     },
     "execution_count": 88,
     "metadata": {},
     "output_type": "execute_result"
    }
   ],
   "source": [
    "data = pd.read_csv(\"winnipeg_house_sales_2016-2018.csv\")\n",
    "data[\"longitude\"] = np.nan\n",
    "data[\"latitude\"] = np.nan\n",
    "data.head(5)"
   ],
   "metadata": {
    "collapsed": false,
    "pycharm": {
     "name": "#%%\n"
    }
   }
  },
  {
   "cell_type": "code",
   "execution_count": 89,
   "outputs": [
    {
     "data": {
      "text/plain": "'\\n# Check if there are any non-addresses in the dataframe so that\\n# google maps geocode doesn\\'t throw error\\n\\n\\naddress_list = []\\nregex = r\"\\\\d+\\\\s{1}\\\\w+\\\\s{1}\\\\w+\"\\n# check if address starts with some amount of numbers (address number)\\n# followed by one whitespace\\n# followed by some amount of characters (address name)\\n# and then again one whitespace\\n# followed by some amount of characters (example: street, avenue etc.)\\n\\n\\nfor i in range(len(df)):\\n    address = df.iloc[i, 0]\\n    matches = re.search(regex, address)\\n    if not matches:\\n        address_list.append(address)\\n\\nfor i in range(len(address_list)):\\n    print(address_list[i] + \"\\n\")\\n\\n\\n# There are different forms of addresses but none are non-addresses which is good\\n'"
     },
     "execution_count": 89,
     "metadata": {},
     "output_type": "execute_result"
    }
   ],
   "source": [
    "\"\"\"\n",
    "import re\n",
    "\n",
    "# Check if there are any non-addresses in the dataframe so that\n",
    "# google maps geocode doesn't throw error\n",
    "\n",
    "address_list = []\n",
    "regex = r\"\\d+\\s{1}\\w+\\s{1}\\w+\"\n",
    "# check if address starts with some amount of numbers (address number)\n",
    "# followed by one whitespace\n",
    "# followed by some amount of characters (address name)\n",
    "# and then again one whitespace\n",
    "# followed by some amount of characters (example: street, avenue etc.)\n",
    "\n",
    "\n",
    "for i in range(len(df)):\n",
    "    address = df.iloc[i, 0]\n",
    "    matches = re.search(regex, address)\n",
    "    if not matches:\n",
    "        address_list.append(address)\n",
    "\n",
    "for i in range(len(address_list)):\n",
    "    print(address_list[i] + \"\\n\")\n",
    "\n",
    "\n",
    "# There are different forms of addresses but none are non-addresses which is good\n",
    "\"\"\""
   ],
   "metadata": {
    "collapsed": false,
    "pycharm": {
     "name": "#%%\n"
    }
   }
  },
  {
   "cell_type": "code",
   "execution_count": 90,
   "outputs": [
    {
     "data": {
      "text/plain": "            address  roll number  year of sale  month of sale sale price  \\\n0  900 ARCHIBALD ST   6032253000          2017             10   $244,000   \n1  17 BERKSHIRE BAY   6024002500          2017             10   $248,000   \n2  21 BERKSHIRE BAY   6024003000          2016             11   $220,000   \n\n   longitude   latitude  \n0 -97.093423  49.872210  \n1 -97.088862  49.871602  \n2 -97.089015  49.871589  ",
      "text/html": "<div>\n<style scoped>\n    .dataframe tbody tr th:only-of-type {\n        vertical-align: middle;\n    }\n\n    .dataframe tbody tr th {\n        vertical-align: top;\n    }\n\n    .dataframe thead th {\n        text-align: right;\n    }\n</style>\n<table border=\"1\" class=\"dataframe\">\n  <thead>\n    <tr style=\"text-align: right;\">\n      <th></th>\n      <th>address</th>\n      <th>roll number</th>\n      <th>year of sale</th>\n      <th>month of sale</th>\n      <th>sale price</th>\n      <th>longitude</th>\n      <th>latitude</th>\n    </tr>\n  </thead>\n  <tbody>\n    <tr>\n      <th>0</th>\n      <td>900 ARCHIBALD ST</td>\n      <td>6032253000</td>\n      <td>2017</td>\n      <td>10</td>\n      <td>$244,000</td>\n      <td>-97.093423</td>\n      <td>49.872210</td>\n    </tr>\n    <tr>\n      <th>1</th>\n      <td>17 BERKSHIRE BAY</td>\n      <td>6024002500</td>\n      <td>2017</td>\n      <td>10</td>\n      <td>$248,000</td>\n      <td>-97.088862</td>\n      <td>49.871602</td>\n    </tr>\n    <tr>\n      <th>2</th>\n      <td>21 BERKSHIRE BAY</td>\n      <td>6024003000</td>\n      <td>2016</td>\n      <td>11</td>\n      <td>$220,000</td>\n      <td>-97.089015</td>\n      <td>49.871589</td>\n    </tr>\n  </tbody>\n</table>\n</div>"
     },
     "execution_count": 90,
     "metadata": {},
     "output_type": "execute_result"
    }
   ],
   "source": [
    "gmap = maps.Client(key='')\n",
    "error_lst = []\n",
    "invalid_address_lst = []\n",
    "\n",
    "for row in range(len(data)):\n",
    "    try:\n",
    "        result = gmap.geocode(data.iloc[row, 0] + ', Winnipeg, Manitoba')\n",
    "        if not result:\n",
    "            invalid_address_lst.append(row)\n",
    "            continue\n",
    "        else:\n",
    "            data.iloc[row, 5] = result[0]['geometry']['location']['lng']\n",
    "            data.iloc[row, 6] = result[0]['geometry']['location']['lat']\n",
    "    except:\n",
    "        error_lst.append(error_lst)\n",
    "\n",
    "data.head(3)"
   ],
   "metadata": {
    "collapsed": false,
    "pycharm": {
     "name": "#%%\n"
    }
   }
  },
  {
   "cell_type": "code",
   "execution_count": 91,
   "outputs": [],
   "source": [
    "nonDuplicateData = data.sort_values([data.columns[2], data.columns[3]], ascending= [False, False]).drop_duplicates()\n",
    "nonDuplicateData.to_csv(\"house_data.csv\")\n",
    "\n",
    "print(\"Error List: \" + error_lst)\n",
    "print(\"Invalid addresses index: \" + invalid_address_lst)"
   ],
   "metadata": {
    "collapsed": false,
    "pycharm": {
     "name": "#%%\n"
    }
   }
  }
 ],
 "metadata": {
  "kernelspec": {
   "display_name": "Python 3",
   "language": "python",
   "name": "python3"
  },
  "language_info": {
   "codemirror_mode": {
    "name": "ipython",
    "version": 2
   },
   "file_extension": ".py",
   "mimetype": "text/x-python",
   "name": "python",
   "nbconvert_exporter": "python",
   "pygments_lexer": "ipython2",
   "version": "2.7.6"
  }
 },
 "nbformat": 4,
 "nbformat_minor": 0
}